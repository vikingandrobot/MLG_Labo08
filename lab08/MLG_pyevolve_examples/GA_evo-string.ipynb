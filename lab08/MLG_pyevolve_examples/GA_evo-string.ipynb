{
 "cells": [
  {
   "cell_type": "code",
   "execution_count": 1,
   "metadata": {
    "collapsed": true
   },
   "outputs": [],
   "source": [
    "from pyevolve import G1DList\n",
    "from pyevolve import GSimpleGA\n",
    "from pyevolve import Selectors\n",
    "from pyevolve import Statistics"
   ]
  },
  {
   "cell_type": "code",
   "execution_count": 2,
   "metadata": {
    "collapsed": true
   },
   "outputs": [],
   "source": [
    "def fitness(chromosome):\n",
    "    score = 0.0\n",
    "    target = 'METHINKS_IT_IS_LIKE_A_WEASEL'\n",
    "    # iterate over the chromosome\n",
    "    for i in range(0,len(chromosome)):\n",
    "        if chr(chromosome[i]) == target[i]:\n",
    "            score += 1\n",
    "    return score"
   ]
  },
  {
   "cell_type": "code",
   "execution_count": 3,
   "metadata": {
    "collapsed": true
   },
   "outputs": [],
   "source": [
    "def current_best(ga_engine):\n",
    "    # Here you have access to the GA Engine\n",
    "    best = ga.bestIndividual()\n",
    "    for i in range(0,len(best)):\n",
    "        print(chr(best[i]))\n",
    "    return False"
   ]
  },
  {
   "cell_type": "code",
   "execution_count": 4,
   "metadata": {
    "collapsed": false,
    "scrolled": true
   },
   "outputs": [
    {
     "name": "stdout",
     "output_type": "stream",
     "text": [
      "Gen. 0 (0.00%): Max/Min/Avg Fitness(Raw) [1.09(4.00)/0.85(0.00)/0.90(0.91)]\n",
      "Gen. 10 (2.00%): Max/Min/Avg Fitness(Raw) [7.89(11.00)/5.51(3.00)/6.58(6.58)]\n",
      "Gen. 20 (4.00%): Max/Min/Avg Fitness(Raw) [13.18(16.00)/8.80(6.00)/10.98(10.98)]\n",
      "Gen. 30 (6.00%): Max/Min/Avg Fitness(Raw) [17.44(19.00)/11.58(10.00)/14.53(14.54)]\n",
      "Gen. 40 (8.00%): Max/Min/Avg Fitness(Raw) [20.41(23.00)/14.17(12.00)/17.00(17.00)]\n",
      "Gen. 50 (10.00%): Max/Min/Avg Fitness(Raw) [21.11(23.00)/15.25(14.00)/17.60(17.59)]\n",
      "Gen. 60 (12.00%): Max/Min/Avg Fitness(Raw) [21.67(23.00)/15.09(14.00)/18.05(18.05)]\n",
      "Gen. 70 (14.00%): Max/Min/Avg Fitness(Raw) [22.30(24.00)/15.44(14.00)/18.59(18.59)]\n",
      "Gen. 80 (16.00%): Max/Min/Avg Fitness(Raw) [22.23(24.00)/15.46(14.00)/18.52(18.52)]\n",
      "Gen. 90 (18.00%): Max/Min/Avg Fitness(Raw) [22.00(24.00)/15.53(14.00)/18.34(18.34)]\n",
      "Gen. 100 (20.00%): Max/Min/Avg Fitness(Raw) [21.70(24.00)/15.59(14.00)/18.08(18.08)]\n",
      "Gen. 110 (22.00%): Max/Min/Avg Fitness(Raw) [21.10(25.00)/15.41(13.00)/17.58(17.58)]\n",
      "Gen. 120 (24.00%): Max/Min/Avg Fitness(Raw) [21.94(25.00)/15.41(13.00)/18.29(18.29)]\n",
      "Gen. 130 (26.00%): Max/Min/Avg Fitness(Raw) [22.71(25.00)/16.48(15.00)/18.92(18.93)]\n",
      "Gen. 140 (28.00%): Max/Min/Avg Fitness(Raw) [22.76(25.00)/16.47(15.00)/18.97(18.97)]\n",
      "Gen. 150 (30.00%): Max/Min/Avg Fitness(Raw) [23.19(25.00)/16.38(15.00)/19.32(19.32)]\n",
      "Gen. 160 (32.00%): Max/Min/Avg Fitness(Raw) [22.58(25.00)/15.28(13.00)/18.82(18.82)]\n",
      "Gen. 170 (34.00%): Max/Min/Avg Fitness(Raw) [22.54(25.00)/16.50(15.00)/18.79(18.79)]\n",
      "Gen. 180 (36.00%): Max/Min/Avg Fitness(Raw) [22.78(25.00)/16.47(15.00)/18.98(18.98)]\n",
      "Gen. 190 (38.00%): Max/Min/Avg Fitness(Raw) [23.38(25.00)/16.32(15.00)/19.48(19.48)]\n",
      "Gen. 200 (40.00%): Max/Min/Avg Fitness(Raw) [22.45(25.00)/15.91(14.00)/18.70(18.70)]\n",
      "Gen. 210 (42.00%): Max/Min/Avg Fitness(Raw) [22.72(25.00)/16.48(15.00)/18.93(18.93)]\n",
      "Gen. 220 (44.00%): Max/Min/Avg Fitness(Raw) [21.95(25.00)/15.41(13.00)/18.29(18.29)]\n",
      "Gen. 230 (46.00%): Max/Min/Avg Fitness(Raw) [22.71(25.00)/15.86(14.00)/18.92(18.93)]\n",
      "Gen. 240 (48.00%): Max/Min/Avg Fitness(Raw) [22.19(25.00)/15.94(14.00)/18.49(18.49)]\n",
      "Gen. 250 (50.00%): Max/Min/Avg Fitness(Raw) [22.02(25.00)/15.95(14.00)/18.35(18.35)]\n",
      "Gen. 260 (52.00%): Max/Min/Avg Fitness(Raw) [22.01(25.00)/16.50(15.00)/18.34(18.34)]\n",
      "Gen. 270 (54.00%): Max/Min/Avg Fitness(Raw) [21.71(25.00)/16.47(15.00)/18.09(18.09)]\n",
      "Gen. 280 (56.00%): Max/Min/Avg Fitness(Raw) [21.86(25.00)/15.41(13.00)/18.22(18.22)]\n",
      "Gen. 290 (58.00%): Max/Min/Avg Fitness(Raw) [22.44(25.00)/16.50(15.00)/18.70(18.70)]\n",
      "Gen. 300 (60.00%): Max/Min/Avg Fitness(Raw) [22.47(25.00)/16.50(15.00)/18.73(18.73)]\n",
      "Gen. 310 (62.00%): Max/Min/Avg Fitness(Raw) [21.64(25.00)/15.95(14.00)/18.03(18.04)]\n",
      "Gen. 320 (64.00%): Max/Min/Avg Fitness(Raw) [22.29(25.00)/15.93(14.00)/18.58(18.57)]\n",
      "Gen. 330 (66.00%): Max/Min/Avg Fitness(Raw) [21.65(25.00)/15.95(14.00)/18.05(18.05)]\n",
      "Gen. 340 (68.00%): Max/Min/Avg Fitness(Raw) [22.68(25.00)/15.86(14.00)/18.90(18.90)]\n",
      "Gen. 350 (70.00%): Max/Min/Avg Fitness(Raw) [22.25(25.00)/16.51(15.00)/18.55(18.55)]\n",
      "Gen. 360 (72.00%): Max/Min/Avg Fitness(Raw) [22.42(25.00)/16.50(15.00)/18.68(18.68)]\n",
      "Gen. 370 (74.00%): Max/Min/Avg Fitness(Raw) [23.16(25.00)/16.39(15.00)/19.30(19.30)]\n",
      "Gen. 380 (76.00%): Max/Min/Avg Fitness(Raw) [22.73(25.00)/15.85(14.00)/18.94(18.94)]\n",
      "Gen. 390 (78.00%): Max/Min/Avg Fitness(Raw) [23.17(25.00)/15.71(14.00)/19.31(19.31)]\n",
      "Gen. 400 (80.00%): Max/Min/Avg Fitness(Raw) [22.56(25.00)/16.50(15.00)/18.80(18.80)]\n",
      "Gen. 410 (82.00%): Max/Min/Avg Fitness(Raw) [22.37(25.00)/15.92(14.00)/18.64(18.64)]\n",
      "Gen. 420 (84.00%): Max/Min/Avg Fitness(Raw) [21.77(25.00)/15.95(14.00)/18.14(18.14)]\n",
      "Gen. 430 (86.00%): Max/Min/Avg Fitness(Raw) [22.39(25.00)/15.92(14.00)/18.66(18.66)]\n",
      "Gen. 440 (88.00%): Max/Min/Avg Fitness(Raw) [22.33(25.00)/15.92(14.00)/18.61(18.61)]\n",
      "Gen. 450 (90.00%): Max/Min/Avg Fitness(Raw) [21.85(25.00)/16.49(15.00)/18.21(18.21)]\n",
      "Gen. 460 (92.00%): Max/Min/Avg Fitness(Raw) [21.45(25.00)/15.93(14.00)/17.88(17.88)]\n",
      "Gen. 470 (94.00%): Max/Min/Avg Fitness(Raw) [22.28(25.00)/15.93(14.00)/18.57(18.57)]\n",
      "Gen. 480 (96.00%): Max/Min/Avg Fitness(Raw) [22.27(25.00)/16.51(15.00)/18.56(18.56)]\n",
      "Gen. 490 (98.00%): Max/Min/Avg Fitness(Raw) [22.12(25.00)/15.94(14.00)/18.43(18.43)]\n",
      "Gen. 500 (100.00%): Max/Min/Avg Fitness(Raw) [22.82(25.00)/16.46(15.00)/19.02(19.02)]\n",
      "Total time elapsed: 5.424 seconds.\n",
      "M\n",
      "E\n",
      "T\n",
      "S\n",
      "I\n",
      "I\n",
      "K\n",
      "S\n",
      "_\n",
      "I\n",
      "T\n",
      "_\n",
      "I\n",
      "S\n",
      "_\n",
      "L\n",
      "I\n",
      "K\n",
      "E\n",
      "_\n",
      "A\n",
      "_\n",
      "S\n",
      "E\n",
      "A\n",
      "S\n",
      "E\n",
      "L\n"
     ]
    }
   ],
   "source": [
    "# Chromosome representation\n",
    "\n",
    "# genome = List of elements\n",
    "genome = G1DList.G1DList(28)\n",
    "\n",
    "# elements = values in the range rangemin and rangemax\n",
    "# ASCII(65) = 'A' .... ASCII(95) = '_'\n",
    "genome.setParams(rangemin=65, rangemax=95)\n",
    "\n",
    "# how to compute the fitness\n",
    "genome.evaluator.set(fitness)\n",
    "\n",
    "# GA initialisation\n",
    "ga = GSimpleGA.GSimpleGA(genome)\n",
    "ga.setPopulationSize(200)\n",
    "ga.setMutationRate(0.05)\n",
    "ga.setCrossoverRate(0.9)\n",
    "ga.selector.set(Selectors.GTournamentSelector)\n",
    "ga.setElitism(True)\n",
    "\n",
    "# Number of generations\n",
    "ga.setGenerations(500)\n",
    "\n",
    "# In case we want to monitor the evolution process\n",
    "# execute the function current_best every generation\n",
    "#ga.stepCallback.set(current_best)\n",
    "\n",
    "ga.evolve(freq_stats=10)\n",
    "\n",
    "# Final best solution\n",
    "best = ga.bestIndividual()\n",
    "\n",
    "for i in range(0,len(best)):\n",
    "    print(chr(best[i]))"
   ]
  }
 ],
 "metadata": {
  "kernelspec": {
   "display_name": "Python 3",
   "language": "python",
   "name": "python3"
  },
  "language_info": {
   "codemirror_mode": {
    "name": "ipython",
    "version": 3
   },
   "file_extension": ".py",
   "mimetype": "text/x-python",
   "name": "python",
   "nbconvert_exporter": "python",
   "pygments_lexer": "ipython3",
   "version": "3.4.1"
  }
 },
 "nbformat": 4,
 "nbformat_minor": 1
}
